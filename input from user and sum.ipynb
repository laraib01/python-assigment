{
 "cells": [
  {
   "cell_type": "code",
   "execution_count": 4,
   "id": "78059481",
   "metadata": {},
   "outputs": [
    {
     "name": "stdout",
     "output_type": "stream",
     "text": [
      "Enter your first value: 5\n",
      "Enter your second value: 5\n",
      "The sum of your values is:\n",
      "10\n"
     ]
    }
   ],
   "source": [
    "num1=int(input(\"Enter your first value: \"));\n",
    "num2=int(input(\"Enter your second value: \"));\n",
    "\n",
    "result=num1+num2;\n",
    "print(\"The sum of your values is:\");\n",
    "print(result);"
   ]
  },
  {
   "cell_type": "code",
   "execution_count": null,
   "id": "34e6ec53",
   "metadata": {},
   "outputs": [],
   "source": []
  }
 ],
 "metadata": {
  "kernelspec": {
   "display_name": "Python 3 (ipykernel)",
   "language": "python",
   "name": "python3"
  },
  "language_info": {
   "codemirror_mode": {
    "name": "ipython",
    "version": 3
   },
   "file_extension": ".py",
   "mimetype": "text/x-python",
   "name": "python",
   "nbconvert_exporter": "python",
   "pygments_lexer": "ipython3",
   "version": "3.9.7"
  }
 },
 "nbformat": 4,
 "nbformat_minor": 5
}
