{
 "cells": [
  {
   "cell_type": "code",
   "execution_count": 1,
   "id": "f3d4a979",
   "metadata": {},
   "outputs": [],
   "source": [
    "import datetime;"
   ]
  },
  {
   "cell_type": "code",
   "execution_count": 2,
   "id": "5d5bad40",
   "metadata": {},
   "outputs": [
    {
     "name": "stdout",
     "output_type": "stream",
     "text": [
      "Current Date and Time is: \n",
      "01-01-2022 23:39:05\n"
     ]
    }
   ],
   "source": [
    "now = datetime.datetime.now();\n",
    "print(\"Current Date and Time is: \");\n",
    "print(now.strftime(\"%d-%m-%Y %H:%M:%S\"));"
   ]
  },
  {
   "cell_type": "code",
   "execution_count": null,
   "id": "92a5f68f",
   "metadata": {},
   "outputs": [],
   "source": []
  }
 ],
 "metadata": {
  "kernelspec": {
   "display_name": "Python 3 (ipykernel)",
   "language": "python",
   "name": "python3"
  },
  "language_info": {
   "codemirror_mode": {
    "name": "ipython",
    "version": 3
   },
   "file_extension": ".py",
   "mimetype": "text/x-python",
   "name": "python",
   "nbconvert_exporter": "python",
   "pygments_lexer": "ipython3",
   "version": "3.9.7"
  }
 },
 "nbformat": 4,
 "nbformat_minor": 5
}
